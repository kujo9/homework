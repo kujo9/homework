{
 "cells": [
  {
   "cell_type": "markdown",
   "metadata": {},
   "source": [
    " <h1 align = center> Principles of Object Oriented Programming </h1>"
   ]
  },
  {
   "cell_type": "markdown",
   "metadata": {},
   "source": [
    "#### 4 principles\n",
    "- Encapsulation\n",
    "- Inheritance\n",
    "- Polymorphism\n",
    "- Abstraction\n"
   ]
  },
  {
   "cell_type": "markdown",
   "metadata": {},
   "source": [
    "## ENCAPSULATION"
   ]
  },
  {
   "cell_type": "markdown",
   "metadata": {},
   "source": [
    "In encapsulation, the variables of a class can be made hidden from other classes, and can be accessed only through the methods of their current class. Therefore, it is also known as data hiding.\n",
    "<br><br>\n",
    "Encapsulation can be described as a protective barrier that prevents the code and data being randomly accessed by other code defined outside the class. Access to the data and code is tightly controlled by a class."
   ]
  },
  {
   "cell_type": "code",
   "execution_count": 40,
   "metadata": {},
   "outputs": [],
   "source": [
    "from datetime import timedelta, date\n",
    "from IPython.display import Image\n",
    "import requests\n",
    "from time import sleep\n",
    "\n",
    "generic_image = 'codeflix.png'\n"
   ]
  },
  {
   "cell_type": "code",
   "execution_count": null,
   "metadata": {},
   "outputs": [],
   "source": [
    "\n",
    "\n",
    "\n"
   ]
  },
  {
   "cell_type": "markdown",
   "metadata": {},
   "source": [
    "## INHERITANCE"
   ]
  },
  {
   "cell_type": "markdown",
   "metadata": {},
   "source": [
    "Inheritance can be defined as the process where one class acquires the properties (methods and fields) of another.\n",
    "<br>\n",
    "<i>(see above)</i>"
   ]
  },
  {
   "cell_type": "code",
   "execution_count": 35,
   "metadata": {},
   "outputs": [],
   "source": [
    "from datetime import timedelta, date\n",
    "from IPython.display import Image\n",
    "import requests\n",
    "from time import sleep\n",
    "\n",
    "generic_image = 'codeflix.png'\n",
    "\n",
    "class Video():\n",
    "    \n",
    "    generic_image = 'codeflix.png'\n",
    "    def __init__(self):\n",
    "        self.title = None\n",
    "        self.length = timedelta()\n",
    "        self.link = generic_image\n",
    "        \n",
    "    def play(self):\n",
    "        print(f\"Now playing: {self.title}\")\n",
    "        display(Image(url = self.link))\n",
    "        \n",
    "    def __len__(self):\n",
    "        return self.length\n",
    "        \n",
    "    def __repr__(self):\n",
    "        return f\"{self.title} is {self.length.seconds} seconds long\""
   ]
  },
  {
   "cell_type": "code",
   "execution_count": 36,
   "metadata": {},
   "outputs": [],
   "source": [
    "# Episode inherits from Video class\n",
    "\n",
    "class Episode(Video):\n",
    "    def __init__(self, data):\n",
    "        Video.__init__(self)\n",
    "        self.number = data['number']\n",
    "        self.season = data['season']\n",
    "        self.date_aired = data['airdate']\n",
    "        self.summary = data['summary']\n",
    "        self.rating = data['rating']['average']\n",
    "        self.title = data['name']\n",
    "        self.length = timedelta(minutes = data['runtime'])\n",
    "        if data['image']:\n",
    "            self.link = data['image']['medium']\n",
    "            "
   ]
  },
  {
   "cell_type": "code",
   "execution_count": 41,
   "metadata": {},
   "outputs": [],
   "source": [
    "class Series():\n",
    "    def __init__(self):\n",
    "        self.id = None\n",
    "        self.network = None\n",
    "        self.seasons = None\n",
    "        self.summary = None\n",
    "        self.title = None\n",
    "        self.genres = []\n",
    "        self.episodes = []\n",
    "        \n",
    "    def get_info(self, query=''):\n",
    "        data = None #the show we're looking for doesnt exist\n",
    "        while not data:\n",
    "            if not query:\n",
    "                query = input(\"What is the name of the series? \")\n",
    "                \n",
    "            r = requests.get(f\"https://api.tvmaze.com/singlesearch/shows?q={query}\")\n",
    "            if r.status_code == 200:\n",
    "                data = r.json()\n",
    "            else:\n",
    "                print(f\"Series Error: {r.status_code}\")\n",
    "                \n",
    "#         Data to alter class attributes\n",
    "        self.id = data['id']\n",
    "        self.title = data['name']\n",
    "        self.genres = data['genres']\n",
    "        if data['network']:\n",
    "            self.network = data['network']['name']\n",
    "        else:\n",
    "            self.network = data['webChannel']['name']\n",
    "            \n",
    "            \n",
    "#         api call for episodes using the id from the series which is self.id\n",
    "        r = requests.get(f\"https://api.tvmaze.com/shows/{self.id}/episodes\")\n",
    "        if r.status_code == 200:\n",
    "            episodes = r.json() # list of episode dictionaries that comes back from https://api.tvmaze.com/shows/216/episodes\n",
    "            self.seasons = episodes[-1]['season']\n",
    "            self.episodes = [Episode(ep) for ep in episodes] #each episode dictionary becomes the data we're passing into an Episode instance\n",
    "            print(f\"{self.title} has {len(self.episodes)} episodes\")\n",
    "        else:\n",
    "            print(f\"Print Episode Error: status_code {r.status_code}\")\n",
    "            \n",
    "    \n",
    "    \n",
    "    def watch(self):\n",
    "        for i in range(len(self.episodes)):\n",
    "            if i > 0 and i % 3 == 0:\n",
    "                watching = input(\"Are you still watching? also get a job y/n\")\n",
    "                if watching.lower().strip() not in (\"yes\", \"y\", \"yeah\", \"ye\", \"affirmative\", \"si\", \"indeed\"):\n",
    "                    break\n",
    "            self.episodes[i].play()\n",
    "            sleep(self.episodes[i].length.seconds/1000)\n",
    "            \n",
    "    def __len__(self):\n",
    "        return len(self.episodes)\n",
    "    \n",
    "    def __repr__(self):\n",
    "        return f\"Title: {self.title}\"     "
   ]
  },
  {
   "cell_type": "code",
   "execution_count": 42,
   "metadata": {},
   "outputs": [
    {
     "name": "stdout",
     "output_type": "stream",
     "text": [
      "Scrubs has 182 episodes\n"
     ]
    }
   ],
   "source": [
    "my_show = Series()\n",
    "my_show.get_info(\"Scrubs\")"
   ]
  },
  {
   "cell_type": "code",
   "execution_count": 43,
   "metadata": {
    "scrolled": true
   },
   "outputs": [
    {
     "name": "stdout",
     "output_type": "stream",
     "text": [
      "Now playing: My First Day\n"
     ]
    },
    {
     "data": {
      "text/html": [
       "<img src=\"https://static.tvmaze.com/uploads/images/medium_landscape/193/483595.jpg\"/>"
      ],
      "text/plain": [
       "<IPython.core.display.Image object>"
      ]
     },
     "metadata": {},
     "output_type": "display_data"
    },
    {
     "name": "stdout",
     "output_type": "stream",
     "text": [
      "Now playing: My Mentor\n"
     ]
    },
    {
     "data": {
      "text/html": [
       "<img src=\"https://static.tvmaze.com/uploads/images/medium_landscape/193/483596.jpg\"/>"
      ],
      "text/plain": [
       "<IPython.core.display.Image object>"
      ]
     },
     "metadata": {},
     "output_type": "display_data"
    },
    {
     "name": "stdout",
     "output_type": "stream",
     "text": [
      "Now playing: My Best Friend's Mistake\n"
     ]
    },
    {
     "data": {
      "text/html": [
       "<img src=\"https://static.tvmaze.com/uploads/images/medium_landscape/193/483597.jpg\"/>"
      ],
      "text/plain": [
       "<IPython.core.display.Image object>"
      ]
     },
     "metadata": {},
     "output_type": "display_data"
    },
    {
     "name": "stdout",
     "output_type": "stream",
     "text": [
      "Are you still watching? also get a job y/n y\n"
     ]
    },
    {
     "name": "stdout",
     "output_type": "stream",
     "text": [
      "Now playing: My Old Lady\n"
     ]
    },
    {
     "data": {
      "text/html": [
       "<img src=\"https://static.tvmaze.com/uploads/images/medium_landscape/193/483598.jpg\"/>"
      ],
      "text/plain": [
       "<IPython.core.display.Image object>"
      ]
     },
     "metadata": {},
     "output_type": "display_data"
    },
    {
     "name": "stdout",
     "output_type": "stream",
     "text": [
      "Now playing: My Two Dads\n"
     ]
    },
    {
     "data": {
      "text/html": [
       "<img src=\"https://static.tvmaze.com/uploads/images/medium_landscape/193/483599.jpg\"/>"
      ],
      "text/plain": [
       "<IPython.core.display.Image object>"
      ]
     },
     "metadata": {},
     "output_type": "display_data"
    },
    {
     "name": "stdout",
     "output_type": "stream",
     "text": [
      "Now playing: My Bad\n"
     ]
    },
    {
     "data": {
      "text/html": [
       "<img src=\"https://static.tvmaze.com/uploads/images/medium_landscape/193/483600.jpg\"/>"
      ],
      "text/plain": [
       "<IPython.core.display.Image object>"
      ]
     },
     "metadata": {},
     "output_type": "display_data"
    },
    {
     "name": "stdout",
     "output_type": "stream",
     "text": [
      "Are you still watching? also get a job y/n n\n"
     ]
    }
   ],
   "source": [
    "my_show.watch()"
   ]
  },
  {
   "cell_type": "code",
   "execution_count": 57,
   "metadata": {},
   "outputs": [],
   "source": [
    "class User:\n",
    "    __id_counter = 1\n",
    "    def __init__(self, username, password):\n",
    "        self.username = username\n",
    "        self.password = password[::-2]\n",
    "        self.id = User.__id_counter\n",
    "        User.__id_counter += 1\n",
    "        self.watch_list = []\n",
    "\n",
    "    def __str__(self):\n",
    "        formatted_user = f\"\"\"\n",
    "        {self.id} - {self.username.title()}\n",
    "        pw: {self.password}\n",
    "        \"\"\"\n",
    "        return formatted_user\n",
    "\n",
    "    def __repr__(self):\n",
    "        return f\" <User {self.id} | {self.username}>\"\n",
    "\n",
    "    def check_password(self, password_guess):\n",
    "        return self.password == password_guess[::-2]\n",
    "\n"
   ]
  },
  {
   "cell_type": "markdown",
   "metadata": {},
   "source": [
    "## POLYMORPHISM"
   ]
  },
  {
   "cell_type": "markdown",
   "metadata": {},
   "source": [
    "In object-oriented programming, polymorphism (from the Greek meaning “having multiple forms”) is the characteristic of being able to assign a different meaning or usage to something in different contexts — specifically, to allow an entity such as a function, or an object to have more than one form.\n",
    "<br><br>\n"
   ]
  },
  {
   "cell_type": "markdown",
   "metadata": {},
   "source": [
    "## ABSTRACTION"
   ]
  },
  {
   "cell_type": "markdown",
   "metadata": {},
   "source": [
    "Abstraction is a process of hiding the implementation details from the user, only the functionality will be provided to the user. We have a bit to do before this becomes visible. But you've seen it before with presenting the user with the option to enter inputs. We then take those input and do something with them.\n",
    "<br><br>"
   ]
  },
  {
   "cell_type": "code",
   "execution_count": 62,
   "metadata": {},
   "outputs": [],
   "source": [
    "\n",
    "from datetime import timedelta, date\n",
    "from IPython.display import Image\n",
    "import requests\n",
    "from time import sleep\n",
    "\n",
    "generic_image = 'codeflix.png'\n",
    "\n",
    "class Theater():\n",
    "    def __init__(self):\n",
    "        self.users = set()\n",
    "        self.current_user = None\n",
    "        \n",
    "    # adding a user to self.users\n",
    "    def add_user(self):\n",
    "        username = input(\"Please enter a username: \")\n",
    "        \n",
    "        if username in {u.username for u in self.users}:\n",
    "            print('User with that name already exists. Please try again!')\n",
    "        else:\n",
    "            password = input(\"Please enter your password: \")\n",
    "            user = User(username, password)\n",
    "            self.users.add(user)\n",
    "            print(f\"{user} has been created!!!\")\n",
    "            \n",
    "        self.login_user()\n",
    "        \n",
    "#     login user \n",
    "    def login_user(self):\n",
    "        username = input(\"What is your username? \")\n",
    "        password = input(\"What is your password? \")\n",
    "        \n",
    "        for user in self.users:\n",
    "            if user.username == username and user.check_password(password):\n",
    "                self.current_user = user\n",
    "                print(f\"{user} has logged in!\")\n",
    "                break\n",
    "        else:\n",
    "            print(\"Username and/or password is incorrect!\")\n",
    "            \n",
    "#     logout user\n",
    "    def logout(self):\n",
    "        self.current_user = None\n",
    "        print(\"You have succesfully been logged out!\")\n",
    "        \n",
    "#     update user\n",
    "    def update_user(self):\n",
    "        if self.current_user:\n",
    "            print(self.current_user)\n",
    "            new_user = input(\"Please enter the updated username or enter skip to keep your current username \")\n",
    "            if new_user.lower() != \"skip\":\n",
    "                self.current_user.username = new_user\n",
    "            new_pw = input(\"Please enter the updated password or enter skip to keep current password\")\n",
    "            if new_pw != \"skip\":\n",
    "                self.current_user.password = new_pw\n",
    "            print(f\"{self.current_user.username}'s info has been updated!\")\n",
    "        else:\n",
    "            print(\"Please login to update your information\")\n",
    "            self.login_user()\n",
    "            \n",
    "# ---------------------------------------------------------------------------------------------------------------\n",
    "# watchlist section\n",
    "\n",
    "# add to watch list\n",
    "    def add_to_watchlist(self, query=\"\"):\n",
    "        if self.current_user:\n",
    "            show = Series()\n",
    "            show.get_info(query)\n",
    "            self.current_user.watch_list.append(show)\n",
    "            \n",
    "            print(f\"{show.title} has been added to the watchlist!\")\n",
    "        \n",
    "        else: \n",
    "            print(\"please sign in to add to your watchlist\")\n",
    "            self.login_user()\n",
    "            \n",
    "    # view watchlist\n",
    "    def view_watch_list(self):\n",
    "        if self.current_user:\n",
    "            for series in self.current_user.watch_list:\n",
    "                print(f\"\\n\\n{series} | Episodes: {(len(series))}\")\n",
    "                print(f\"\\nSummary: \\n {series.summary}\")\n",
    "                display(Image(url = series.episodes[0].link))\n",
    "        else:\n",
    "            print(\"please sign in to add to your watchlist\")\n",
    "            self.login_user()\n",
    "            \n",
    "#     remove from watchlist\n",
    "    def delete(self):\n",
    "        if self.current_user:\n",
    "            print(\"Your current watchlist: \")\n",
    "            self.view_watch_list()\n",
    "            \n",
    "            response = input(\"What would you like to remove from your watch list? \")\n",
    "            \n",
    "            for series in self.current_user.watch_list:\n",
    "                if series.title.title() == response.title():\n",
    "                    self.current_user.watch_list.remove(series)\n",
    "                    print(f\"{response.title()} has been removed from your watch list!\")\n",
    "                    break\n",
    "            else:\n",
    "                print(\"That title is not in your watch list! You GOON!\") # 404 error\n",
    "                \n",
    "            self.view_watch_list()\n",
    "            \n",
    "        else:\n",
    "            print(\"please sign in to add to your watchlist\")\n",
    "            self.login_user()\n",
    "        \n",
    "            \n",
    "            \n",
    "    def choose_from_watch_list(self):\n",
    "        if self.current_user:\n",
    "            self.view_watch_list()\n",
    "            \n",
    "            watch = input(\"What would you like to watch? \")\n",
    "            for series in self.current_user.watch_list:\n",
    "                if series.title.lower() == watch.lower().strip():\n",
    "                    series.watch()\n",
    "                    break\n",
    "            else:\n",
    "                response = input(f\"{watch} is not in your watch list... would you like to add it? y/n\")\n",
    "                if response in (\"yes\", 'y'):\n",
    "                    self.add_to_watchlist(watch)\n",
    "                    \n",
    "                    print(\"..........\")\n",
    "                    sleep(2)\n",
    "                    print(\"...............\")\n",
    "                    self.current_user.watch_list[-1].watch()\n",
    "                    \n",
    "        else:\n",
    "            print(\"please sign in to add to your watchlist\")\n",
    "            self.login_user()\n",
    "            \n",
    "            \n",
    "    \n",
    "#     runnnnn itttttt\n",
    "    def run(self):\n",
    "        \"\"\"\n",
    "        Method allowing users to choose a series and play episodes\n",
    "        \"\"\"\n",
    "        display(Image(url=generic_image))\n",
    "        \n",
    "        if self.users:\n",
    "            self.login_user()\n",
    "        else:\n",
    "            self.add_user()\n",
    "            \n",
    "            print(\"\"\"\n",
    "            What would you like to do?\n",
    "            Add - add a new user\n",
    "            Login - login to your profile\n",
    "            Update - update user information\n",
    "            Logout - Logout of your profile\n",
    "            Search - search for shows\n",
    "            Watch - pick something from your watchlist\n",
    "            View - view your watchlist\n",
    "            Delete - delete from watch list\n",
    "            Quit - close the application            \n",
    "            \n",
    "            \"\"\")\n",
    "            \n",
    "        while True:\n",
    "            response = input(\"What would you like to do? (add, update, login, search, watch, view, delete, quit?) \").lower()\n",
    "            \n",
    "            if response == \"search\":\n",
    "                self.add_to_watchlist()\n",
    "            elif response == \"watch\":\n",
    "                self.choose_from_watch_list()\n",
    "            elif response == \"add\":\n",
    "                self.add_user()\n",
    "            elif response == \"logout\":\n",
    "                self.logout()\n",
    "                new_response = input(\"What would you like to do next? login, add, quit\").lower()\n",
    "                if new_response == \"add\":\n",
    "                    self.add_user()\n",
    "                elif new_response == \"login\":\n",
    "                    self.login_user()\n",
    "                elif new_response == \"quit\":\n",
    "                    print(\"Thanks for watching!\")\n",
    "                    break\n",
    "                    \n",
    "                else:\n",
    "                    print(\"Please enter a valid response and try again!\")\n",
    "                    \n",
    "            elif response == \"login\":\n",
    "                self.login_user()\n",
    "                \n",
    "            elif response == \"update\":\n",
    "                self.update_user()\n",
    "                \n",
    "            elif response == \"view\":\n",
    "                self.view_watch_list()\n",
    "                \n",
    "            elif response == \"delete\":\n",
    "                self.delete()\n",
    "                \n",
    "            elif response == \"quit\":\n",
    "                print(f\"Thanks for watching {self.current_user.username}! Now go outside and touch some grass!\")\n",
    "                break\n",
    "            else:\n",
    "                print(\"Please enter a valid input and try again!\")\n",
    "   \n"
   ]
  },
  {
   "cell_type": "code",
   "execution_count": 63,
   "metadata": {},
   "outputs": [],
   "source": [
    "codeflix = Theater()"
   ]
  },
  {
   "cell_type": "code",
   "execution_count": 64,
   "metadata": {},
   "outputs": [
    {
     "data": {
      "text/html": [
       "<img src=\"codeflix.png\"/>"
      ],
      "text/plain": [
       "<IPython.core.display.Image object>"
      ]
     },
     "metadata": {},
     "output_type": "display_data"
    },
    {
     "name": "stdout",
     "output_type": "stream",
     "text": [
      "Please enter a username:  MichaelJ\n",
      "Please enter your password:  Password\n"
     ]
    },
    {
     "name": "stdout",
     "output_type": "stream",
     "text": [
      "\n",
      "        2 - Michaelj\n",
      "        pw: dosa\n",
      "         has been created!!!\n"
     ]
    },
    {
     "name": "stdout",
     "output_type": "stream",
     "text": [
      "What is your username?  MichaelJ\n",
      "What is your password?  Password\n"
     ]
    },
    {
     "name": "stdout",
     "output_type": "stream",
     "text": [
      "\n",
      "        2 - Michaelj\n",
      "        pw: dosa\n",
      "         has logged in!\n",
      "\n",
      "            What would you like to do?\n",
      "            Add - add a new user\n",
      "            Login - login to your profile\n",
      "            Update - update user information\n",
      "            Logout - Logout of your profile\n",
      "            Search - search for shows\n",
      "            Watch - pick something from your watchlist\n",
      "            View - view your watchlist\n",
      "            Delete - delete from watch list\n",
      "            Quit - close the application            \n",
      "            \n",
      "            \n"
     ]
    },
    {
     "name": "stdout",
     "output_type": "stream",
     "text": [
      "What would you like to do? (add, update, login, search, watch, view, delete, quit?)  search\n",
      "What is the name of the series?  House\n"
     ]
    },
    {
     "name": "stdout",
     "output_type": "stream",
     "text": [
      "House has 176 episodes\n",
      "House has been added to the watchlist!\n"
     ]
    },
    {
     "name": "stdout",
     "output_type": "stream",
     "text": [
      "What would you like to do? (add, update, login, search, watch, view, delete, quit?)  watch\n"
     ]
    },
    {
     "name": "stdout",
     "output_type": "stream",
     "text": [
      "\n",
      "\n",
      "Title: House | Episodes: 176\n",
      "\n",
      "Summary: \n",
      " None\n"
     ]
    },
    {
     "data": {
      "text/html": [
       "<img src=\"https://static.tvmaze.com/uploads/images/medium_landscape/57/144510.jpg\"/>"
      ],
      "text/plain": [
       "<IPython.core.display.Image object>"
      ]
     },
     "metadata": {},
     "output_type": "display_data"
    },
    {
     "name": "stdout",
     "output_type": "stream",
     "text": [
      "What would you like to watch?  House\n"
     ]
    },
    {
     "name": "stdout",
     "output_type": "stream",
     "text": [
      "Now playing: Pilot\n"
     ]
    },
    {
     "data": {
      "text/html": [
       "<img src=\"https://static.tvmaze.com/uploads/images/medium_landscape/57/144510.jpg\"/>"
      ],
      "text/plain": [
       "<IPython.core.display.Image object>"
      ]
     },
     "metadata": {},
     "output_type": "display_data"
    },
    {
     "name": "stdout",
     "output_type": "stream",
     "text": [
      "Now playing: Paternity\n"
     ]
    },
    {
     "data": {
      "text/html": [
       "<img src=\"https://static.tvmaze.com/uploads/images/medium_landscape/57/144511.jpg\"/>"
      ],
      "text/plain": [
       "<IPython.core.display.Image object>"
      ]
     },
     "metadata": {},
     "output_type": "display_data"
    },
    {
     "name": "stdout",
     "output_type": "stream",
     "text": [
      "Now playing: Occam's Razor\n"
     ]
    },
    {
     "data": {
      "text/html": [
       "<img src=\"https://static.tvmaze.com/uploads/images/medium_landscape/57/144512.jpg\"/>"
      ],
      "text/plain": [
       "<IPython.core.display.Image object>"
      ]
     },
     "metadata": {},
     "output_type": "display_data"
    },
    {
     "name": "stdout",
     "output_type": "stream",
     "text": [
      "Are you still watching? also get a job y/n n\n",
      "What would you like to do? (add, update, login, search, watch, view, delete, quit?)  delete\n"
     ]
    },
    {
     "name": "stdout",
     "output_type": "stream",
     "text": [
      "Your current watchlist: \n",
      "\n",
      "\n",
      "Title: House | Episodes: 176\n",
      "\n",
      "Summary: \n",
      " None\n"
     ]
    },
    {
     "data": {
      "text/html": [
       "<img src=\"https://static.tvmaze.com/uploads/images/medium_landscape/57/144510.jpg\"/>"
      ],
      "text/plain": [
       "<IPython.core.display.Image object>"
      ]
     },
     "metadata": {},
     "output_type": "display_data"
    },
    {
     "name": "stdout",
     "output_type": "stream",
     "text": [
      "What would you like to remove from your watch list?  House\n"
     ]
    },
    {
     "name": "stdout",
     "output_type": "stream",
     "text": [
      "House has been removed from your watch list!\n"
     ]
    },
    {
     "name": "stdout",
     "output_type": "stream",
     "text": [
      "What would you like to do? (add, update, login, search, watch, view, delete, quit?)  quit\n"
     ]
    },
    {
     "name": "stdout",
     "output_type": "stream",
     "text": [
      "Thanks for watching MichaelJ! Now go outside and touch some grass!\n"
     ]
    }
   ],
   "source": [
    "codeflix.run()"
   ]
  },
  {
   "cell_type": "markdown",
   "metadata": {},
   "source": [
    "## Exercise 1"
   ]
  },
  {
   "cell_type": "markdown",
   "metadata": {},
   "source": [
    "<p>Describe in your own words the following concepts and give an analogy tying to a real-world concept."
   ]
  },
  {
   "cell_type": "markdown",
   "metadata": {},
   "source": [
    "#### Difference between a Class and an Object"
   ]
  },
  {
   "cell_type": "code",
   "execution_count": null,
   "metadata": {},
   "outputs": [],
   "source": [
    "Class is type/group/catergory of something like fruits. Objects would be types of fruits like, apples, oranges etc."
   ]
  },
  {
   "cell_type": "markdown",
   "metadata": {},
   "source": [
    "#### Encapsulation"
   ]
  },
  {
   "cell_type": "code",
   "execution_count": null,
   "metadata": {},
   "outputs": [],
   "source": [
    "Encapsulation binds data and code together into one unit. Like capsulated medicine pills"
   ]
  },
  {
   "cell_type": "markdown",
   "metadata": {},
   "source": [
    "#### Inheritance"
   ]
  },
  {
   "cell_type": "code",
   "execution_count": null,
   "metadata": {},
   "outputs": [],
   "source": [
    "Defines a class that inherits properties from another class. Assets passed down to individuals after someone passes away. "
   ]
  },
  {
   "cell_type": "markdown",
   "metadata": {},
   "source": [
    "#### Polymorphism"
   ]
  },
  {
   "cell_type": "code",
   "execution_count": null,
   "metadata": {},
   "outputs": [],
   "source": [
    "The ability to appear in many forms. Classes that are related to each other by inheritance. A person being, father, son, uncle etc. "
   ]
  },
  {
   "cell_type": "markdown",
   "metadata": {},
   "source": [
    "#### Abstraction"
   ]
  },
  {
   "cell_type": "code",
   "execution_count": null,
   "metadata": {},
   "outputs": [],
   "source": [
    "Reducing/removing characteristics from something. Can also mean when a person is not paying attention to something but is lost in thought."
   ]
  },
  {
   "cell_type": "markdown",
   "metadata": {},
   "source": [
    "##  Exercise 2 (Optional):\n",
    "Discuss what other classes, methods, or fields (attributes) we could make to improve our streaming service using these principles. <br> <br>\n",
    "Start making a few of them and see where it leads. Make sure you either write out your thoughts in the below cell  or comment where you added code to the above Classes."
   ]
  },
  {
   "cell_type": "code",
   "execution_count": null,
   "metadata": {},
   "outputs": [],
   "source": []
  }
 ],
 "metadata": {
  "kernelspec": {
   "display_name": "Python 3 (ipykernel)",
   "language": "python",
   "name": "python3"
  },
  "language_info": {
   "codemirror_mode": {
    "name": "ipython",
    "version": 3
   },
   "file_extension": ".py",
   "mimetype": "text/x-python",
   "name": "python",
   "nbconvert_exporter": "python",
   "pygments_lexer": "ipython3",
   "version": "3.12.0"
  },
  "vscode": {
   "interpreter": {
    "hash": "aee8b7b246df8f9039afb4144a1f6fd8d2ca17a180786b69acc140d282b71a49"
   }
  }
 },
 "nbformat": 4,
 "nbformat_minor": 4
}
